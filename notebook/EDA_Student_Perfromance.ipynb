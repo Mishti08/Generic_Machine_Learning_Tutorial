{
 "cells": [
  {
   "attachments": {},
   "cell_type": "markdown",
   "metadata": {},
   "source": [
    "Student Performance Indicator\n",
    "\n",
    "Life cycle of Machine learning Project\n",
    "\n",
    "1. Understanding the Problem Statement\n",
    "2. Data Collection\n",
    "3. Data Checks to perform\n",
    "4. Exploratory data analysis\n",
    "5. Data Pre-Processing\n",
    "6. Model Training\n",
    "7. Choose best model\n",
    "\n",
    "1) Problem statement\n",
    "This project understands how the student's performance (test scores) is affected by other variables such as Gender, Ethnicity, Parental level of education, Lunch and Test preparation course.\n",
    "\n",
    "2) Data Collection\n",
    "Dataset Source - https://www.kaggle.com/datasets/spscientist/students-performance-in-exams?datasetId=74977\n",
    "The data consists of 8 column and 1000 rows.\n",
    "\n",
    "    2.1 Import Data and Required Packages\n",
    "    Importing Pandas, Numpy, Matplotlib, Seaborn and Warings Library."
   ]
  },
  {
   "cell_type": "code",
   "execution_count": 19,
   "metadata": {},
   "outputs": [],
   "source": [
    "import pandas as pd\n",
    "import numpy as np\n",
    "import matplotlib.pyplot as plt\n",
    "import seaborn as sns"
   ]
  },
  {
   "cell_type": "code",
   "execution_count": 20,
   "metadata": {},
   "outputs": [],
   "source": [
    "# read the dataset \n",
    "df = pd.read_csv('data/StudentsPerformance.csv')"
   ]
  },
  {
   "cell_type": "code",
   "execution_count": 21,
   "metadata": {},
   "outputs": [
    {
     "data": {
      "text/html": [
       "<div>\n",
       "<style scoped>\n",
       "    .dataframe tbody tr th:only-of-type {\n",
       "        vertical-align: middle;\n",
       "    }\n",
       "\n",
       "    .dataframe tbody tr th {\n",
       "        vertical-align: top;\n",
       "    }\n",
       "\n",
       "    .dataframe thead th {\n",
       "        text-align: right;\n",
       "    }\n",
       "</style>\n",
       "<table border=\"1\" class=\"dataframe\">\n",
       "  <thead>\n",
       "    <tr style=\"text-align: right;\">\n",
       "      <th></th>\n",
       "      <th>gender</th>\n",
       "      <th>race/ethnicity</th>\n",
       "      <th>parental level of education</th>\n",
       "      <th>lunch</th>\n",
       "      <th>test preparation course</th>\n",
       "      <th>math score</th>\n",
       "      <th>reading score</th>\n",
       "      <th>writing score</th>\n",
       "    </tr>\n",
       "  </thead>\n",
       "  <tbody>\n",
       "    <tr>\n",
       "      <th>0</th>\n",
       "      <td>female</td>\n",
       "      <td>group B</td>\n",
       "      <td>bachelor's degree</td>\n",
       "      <td>standard</td>\n",
       "      <td>none</td>\n",
       "      <td>72</td>\n",
       "      <td>72</td>\n",
       "      <td>74</td>\n",
       "    </tr>\n",
       "    <tr>\n",
       "      <th>1</th>\n",
       "      <td>female</td>\n",
       "      <td>group C</td>\n",
       "      <td>some college</td>\n",
       "      <td>standard</td>\n",
       "      <td>completed</td>\n",
       "      <td>69</td>\n",
       "      <td>90</td>\n",
       "      <td>88</td>\n",
       "    </tr>\n",
       "    <tr>\n",
       "      <th>2</th>\n",
       "      <td>female</td>\n",
       "      <td>group B</td>\n",
       "      <td>master's degree</td>\n",
       "      <td>standard</td>\n",
       "      <td>none</td>\n",
       "      <td>90</td>\n",
       "      <td>95</td>\n",
       "      <td>93</td>\n",
       "    </tr>\n",
       "    <tr>\n",
       "      <th>3</th>\n",
       "      <td>male</td>\n",
       "      <td>group A</td>\n",
       "      <td>associate's degree</td>\n",
       "      <td>free/reduced</td>\n",
       "      <td>none</td>\n",
       "      <td>47</td>\n",
       "      <td>57</td>\n",
       "      <td>44</td>\n",
       "    </tr>\n",
       "    <tr>\n",
       "      <th>4</th>\n",
       "      <td>male</td>\n",
       "      <td>group C</td>\n",
       "      <td>some college</td>\n",
       "      <td>standard</td>\n",
       "      <td>none</td>\n",
       "      <td>76</td>\n",
       "      <td>78</td>\n",
       "      <td>75</td>\n",
       "    </tr>\n",
       "  </tbody>\n",
       "</table>\n",
       "</div>"
      ],
      "text/plain": [
       "   gender race/ethnicity parental level of education         lunch  \\\n",
       "0  female        group B           bachelor's degree      standard   \n",
       "1  female        group C                some college      standard   \n",
       "2  female        group B             master's degree      standard   \n",
       "3    male        group A          associate's degree  free/reduced   \n",
       "4    male        group C                some college      standard   \n",
       "\n",
       "  test preparation course  math score  reading score  writing score  \n",
       "0                    none          72             72             74  \n",
       "1               completed          69             90             88  \n",
       "2                    none          90             95             93  \n",
       "3                    none          47             57             44  \n",
       "4                    none          76             78             75  "
      ]
     },
     "execution_count": 21,
     "metadata": {},
     "output_type": "execute_result"
    }
   ],
   "source": [
    "# first 5 rows of the dataset to have a view of the data available\n",
    "df.head()"
   ]
  },
  {
   "cell_type": "code",
   "execution_count": 22,
   "metadata": {},
   "outputs": [
    {
     "data": {
      "text/plain": [
       "(1000, 8)"
      ]
     },
     "execution_count": 22,
     "metadata": {},
     "output_type": "execute_result"
    }
   ],
   "source": [
    "# size of the data row,column \n",
    "df.shape"
   ]
  },
  {
   "cell_type": "code",
   "execution_count": 23,
   "metadata": {},
   "outputs": [
    {
     "data": {
      "text/plain": [
       "Index(['gender', 'race/ethnicity', 'parental level of education', 'lunch',\n",
       "       'test preparation course', 'math score', 'reading score',\n",
       "       'writing score'],\n",
       "      dtype='object')"
      ]
     },
     "execution_count": 23,
     "metadata": {},
     "output_type": "execute_result"
    }
   ],
   "source": [
    "#list all columns\n",
    "df.columns"
   ]
  },
  {
   "cell_type": "code",
   "execution_count": 24,
   "metadata": {},
   "outputs": [
    {
     "name": "stdout",
     "output_type": "stream",
     "text": [
      "{'gender': array(['female', 'male'], dtype=object), 'race/ethnicity': array(['group B', 'group C', 'group A', 'group D', 'group E'],\n",
      "      dtype=object), 'parental level of education': array([\"bachelor's degree\", 'some college', \"master's degree\",\n",
      "       \"associate's degree\", 'high school', 'some high school'],\n",
      "      dtype=object), 'lunch': array(['standard', 'free/reduced'], dtype=object), 'test preparation course': array(['none', 'completed'], dtype=object), 'math score': array([ 72,  69,  90,  47,  76,  71,  88,  40,  64,  38,  58,  65,  78,\n",
      "        50,  18,  46,  54,  66,  44,  74,  73,  67,  70,  62,  63,  56,\n",
      "        97,  81,  75,  57,  55,  53,  59,  82,  77,  33,  52,   0,  79,\n",
      "        39,  45,  60,  61,  41,  49,  30,  80,  42,  27,  43,  68,  85,\n",
      "        98,  87,  51,  99,  84,  91,  83,  89,  22, 100,  96,  94,  48,\n",
      "        35,  34,  86,  92,  37,  28,  24,  26,  95,  36,  29,  32,  93,\n",
      "        19,  23,   8], dtype=int64), 'reading score': array([ 72,  90,  95,  57,  78,  83,  43,  64,  60,  54,  52,  81,  53,\n",
      "        75,  89,  32,  42,  58,  69,  73,  71,  74,  70,  65,  87,  56,\n",
      "        61,  84,  55,  44,  41,  85,  59,  17,  39,  80,  37,  63,  51,\n",
      "        49,  26,  68,  45,  47,  86,  34,  79,  66,  67,  91, 100,  76,\n",
      "        77,  82,  92,  93,  62,  88,  50,  28,  48,  46,  23,  38,  94,\n",
      "        97,  99,  31,  96,  24,  29,  40], dtype=int64), 'writing score': array([ 74,  88,  93,  44,  75,  78,  92,  39,  67,  50,  52,  43,  73,\n",
      "        70,  58,  86,  28,  46,  61,  63,  53,  80,  72,  55,  65,  38,\n",
      "        82,  79,  83,  59,  57,  54,  68,  66,  62,  76,  48,  42,  87,\n",
      "        49,  10,  34,  71,  37,  56,  41,  22,  81,  45,  36,  89,  47,\n",
      "        90, 100,  64,  98,  51,  40,  84,  69,  33,  60,  85,  91,  77,\n",
      "        27,  94,  95,  19,  35,  32,  96,  97,  99,  15,  30,  23],\n",
      "      dtype=int64)}\n"
     ]
    }
   ],
   "source": [
    "# To understand what values each column contains\n",
    "column_details = {}\n",
    "for col in df.columns:\n",
    "    column_details[col] = df[col].unique()\n",
    "\n",
    "print(column_details)"
   ]
  },
  {
   "attachments": {},
   "cell_type": "markdown",
   "metadata": {},
   "source": [
    "2.2 Dataset information\n",
    "##### gender : sex of students -> (Male/Female)\n",
    "#### race/ethnicity : ethnicity of students -> (Group A, B,C, D,E)\n",
    "#### parental level of education : parents' final education ->(bachelor's degree,some college,master's degree,associate's degree,high school)\n",
    "#### lunch : having lunch before test (standard or free/reduced)\n",
    "#### test preparation course : complete or not complete before test\n",
    "#### math score : score from 0 to 100\n",
    "#### reading score : score from 0 to 100\n",
    "#### writing score : score from 0 to 100"
   ]
  },
  {
   "cell_type": "code",
   "execution_count": null,
   "metadata": {},
   "outputs": [],
   "source": []
  }
 ],
 "metadata": {
  "kernelspec": {
   "display_name": "base",
   "language": "python",
   "name": "python3"
  },
  "language_info": {
   "codemirror_mode": {
    "name": "ipython",
    "version": 3
   },
   "file_extension": ".py",
   "mimetype": "text/x-python",
   "name": "python",
   "nbconvert_exporter": "python",
   "pygments_lexer": "ipython3",
   "version": "3.9.13"
  },
  "orig_nbformat": 4,
  "vscode": {
   "interpreter": {
    "hash": "2043299c89c8cd0b4d1a6f5cf4529bd58e6a4e0fe3181a25e0d328c821cdc5c5"
   }
  }
 },
 "nbformat": 4,
 "nbformat_minor": 2
}
